{
 "cells": [
  {
   "cell_type": "code",
   "execution_count": 1,
   "id": "2c0a9e86-12bc-4218-be08-db6c49639c68",
   "metadata": {},
   "outputs": [
    {
     "name": "stdout",
     "output_type": "stream",
     "text": [
      "Hello Hani 2024-11-30 12:37:16.208012\n"
     ]
    }
   ],
   "source": [
    "#Question 1\n",
    "import datetime\n",
    "def greet_with_time(name):\n",
    "    current_time= datetime.datetime.now()\n",
    "    print(\"Hello\",name, current_time)\n",
    "greet_with_time(\"Hani\")"
   ]
  },
  {
   "cell_type": "code",
   "execution_count": 2,
   "id": "0ef81ee4-09a9-448a-a61c-8c46ec6f5ecd",
   "metadata": {},
   "outputs": [
    {
     "name": "stdout",
     "output_type": "stream",
     "text": [
      "40.0\n"
     ]
    }
   ],
   "source": [
    "#Question 2\n",
    "def calculate_average(num1,num2,num3):\n",
    "    average = (num1+num2+num3)/3\n",
    "    return average\n",
    "result= calculate_average(20,40,60)\n",
    "print(result)"
   ]
  },
  {
   "cell_type": "code",
   "execution_count": 3,
   "id": "d25bb124-066f-44b5-a34f-52a2984a15b8",
   "metadata": {},
   "outputs": [
    {
     "name": "stdout",
     "output_type": "stream",
     "text": [
      "3600.0\n"
     ]
    }
   ],
   "source": [
    "#Question 3\n",
    "def calculate_discount(price,discount_percentage=10):\n",
    "    discount_value= (discount_percentage/100)*price\n",
    "    final_price= price-discount_value\n",
    "    return final_price\n",
    "final_price= calculate_discount(4000)\n",
    "print(final_price)\n",
    "    "
   ]
  },
  {
   "cell_type": "code",
   "execution_count": 4,
   "id": "457f37ba-28dc-48cb-bc81-66419becaf4a",
   "metadata": {},
   "outputs": [
    {
     "name": "stdout",
     "output_type": "stream",
     "text": [
      "Name: Fatima\n",
      "Age: 14\n",
      "City: Karachi\n"
     ]
    }
   ],
   "source": [
    "#Question 4\n",
    "def print_info(name,age,city):\n",
    "    print(\"Name:\",name)\n",
    "    print(\"Age:\", age)\n",
    "    print(\"City:\", city)\n",
    "print_info(name=\"Fatima\",age=14,city=\"Karachi\")"
   ]
  },
  {
   "cell_type": "code",
   "execution_count": 8,
   "id": "e7cc0d99-7c70-4293-b214-6aa605281277",
   "metadata": {},
   "outputs": [
    {
     "name": "stdout",
     "output_type": "stream",
     "text": [
      "50\n"
     ]
    }
   ],
   "source": [
    "#Question 5\n",
    "def find_max(*arguments):\n",
    "    return max(arguments) if arguments else None\n",
    "print(find_max(10,40,50))"
   ]
  },
  {
   "cell_type": "code",
   "execution_count": 9,
   "id": "710dee4b-8629-442a-8798-0b31b0f1b215",
   "metadata": {},
   "outputs": [
    {
     "name": "stdout",
     "output_type": "stream",
     "text": [
      "120\n"
     ]
    }
   ],
   "source": [
    "#Question 6\n",
    "def factorial(n):\n",
    "    if n == 0 or n == 1:\n",
    "        return 1\n",
    "    else:\n",
    "        return n * factorial(n - 1)\n",
    "print(factorial(5))\n"
   ]
  },
  {
   "cell_type": "code",
   "execution_count": 12,
   "id": "aa8358e9-72a0-4ed5-93bf-e382e196d421",
   "metadata": {},
   "outputs": [
    {
     "name": "stdout",
     "output_type": "stream",
     "text": [
      "[4, 625, 196, 100, 36]\n"
     ]
    }
   ],
   "source": [
    "#Question 7\n",
    "def apply_function(func,numbers):\n",
    "    return [func(number) for number in numbers]\n",
    "def square(x):\n",
    "    return x*x\n",
    "numbers=[2,25,14,10,6]\n",
    "result= apply_function (square,numbers)\n",
    "print(result)"
   ]
  },
  {
   "cell_type": "code",
   "execution_count": null,
   "id": "d009727f-dcf1-4536-b71a-052f15c10c4f",
   "metadata": {},
   "outputs": [],
   "source": []
  }
 ],
 "metadata": {
  "kernelspec": {
   "display_name": "Python 3 (ipykernel)",
   "language": "python",
   "name": "python3"
  },
  "language_info": {
   "codemirror_mode": {
    "name": "ipython",
    "version": 3
   },
   "file_extension": ".py",
   "mimetype": "text/x-python",
   "name": "python",
   "nbconvert_exporter": "python",
   "pygments_lexer": "ipython3",
   "version": "3.12.4"
  }
 },
 "nbformat": 4,
 "nbformat_minor": 5
}
